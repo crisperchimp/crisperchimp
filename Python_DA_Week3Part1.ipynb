{
  "cells": [
    {
      "cell_type": "markdown",
      "metadata": {
        "id": "view-in-github",
        "colab_type": "text"
      },
      "source": [
        "<a href=\"https://colab.research.google.com/github/crisperchimp/crisperchimp/blob/main/Python_DA_Week3Part1.ipynb\" target=\"_parent\"><img src=\"https://colab.research.google.com/assets/colab-badge.svg\" alt=\"Open In Colab\"/></a>"
      ]
    },
    {
      "cell_type": "code",
      "execution_count": null,
      "id": "4b9aec59",
      "metadata": {
        "id": "4b9aec59",
        "outputId": "ebdd0766-6caf-4a98-b6af-7e6fc778bbae"
      },
      "outputs": [
        {
          "data": {
            "text/plain": [
              "{'name': 'John Doe', 'age': 30, 'city': 'New York'}"
            ]
          },
          "execution_count": 1,
          "metadata": {},
          "output_type": "execute_result"
        }
      ],
      "source": [
        "#json example\n",
        "\n",
        "{\n",
        "    \"name\": \"John Doe\",\n",
        "    \"age\": 30,\n",
        "    \"city\": \"New York\"\n",
        "}"
      ]
    },
    {
      "cell_type": "code",
      "execution_count": null,
      "id": "5c232505",
      "metadata": {
        "id": "5c232505"
      },
      "outputs": [],
      "source": [
        "import requests\n",
        "import pandas as pd"
      ]
    },
    {
      "cell_type": "code",
      "execution_count": null,
      "id": "f9b3f47e",
      "metadata": {
        "id": "f9b3f47e"
      },
      "outputs": [],
      "source": [
        "url = \"http://api.open-notify.org/iss-now.json\"\n",
        "response = requests.get(url)"
      ]
    },
    {
      "cell_type": "code",
      "execution_count": null,
      "id": "ba0bfc1b",
      "metadata": {
        "id": "ba0bfc1b",
        "outputId": "7effcd16-af70-4249-9b05-bd46016d7d66"
      },
      "outputs": [
        {
          "name": "stdout",
          "output_type": "stream",
          "text": [
            "    timestamp  latitude longitude\n",
            "0  1726788435  -51.5371  129.0384\n"
          ]
        }
      ],
      "source": [
        "# Fetching data from a public API (this is the current location of the international space station)\n",
        "\n",
        "if response.status_code == 200:\n",
        "    data = response.json()\n",
        "\n",
        "    timestamp = data['timestamp']\n",
        "    latitude = data['iss_position']['latitude']\n",
        "    longitude = data['iss_position']['longitude']\n",
        "\n",
        "    df = pd.DataFrame({\n",
        "        'timestamp': [timestamp],\n",
        "        'latitude': [latitude],\n",
        "        'longitude': [longitude]\n",
        "    })\n",
        "\n",
        "    print(df)\n",
        "else:\n",
        "    print(f\"Error: {response.status_code}\")"
      ]
    },
    {
      "cell_type": "code",
      "execution_count": null,
      "id": "f283e471",
      "metadata": {
        "id": "f283e471"
      },
      "outputs": [],
      "source": [
        "#storing data as a CSV\n",
        "\n",
        "df.to_csv('iss_location.csv', index=False)"
      ]
    },
    {
      "cell_type": "code",
      "execution_count": null,
      "id": "d2224a48",
      "metadata": {
        "id": "d2224a48"
      },
      "outputs": [],
      "source": [
        "#storing data in SQLite\n",
        "\n",
        "import sqlite3\n",
        "\n",
        "conn = sqlite3.connect('iss_data.db')\n",
        "df.to_sql('iss_locations', conn, if_exists='append', index=False)\n",
        "conn.close()"
      ]
    },
    {
      "cell_type": "code",
      "execution_count": null,
      "id": "40ac7b18",
      "metadata": {
        "id": "40ac7b18"
      },
      "outputs": [],
      "source": [
        "from datetime import datetime\n",
        "\n",
        "def fetch_iss_location():\n",
        "    url = \"http://api.open-notify.org/iss-now.json\"\n",
        "    response = requests.get(url)\n",
        "\n",
        "    if response.status_code == 200:\n",
        "        data = response.json()\n",
        "\n",
        "        timestamp = data['timestamp']\n",
        "        latitude = data['iss_position']['latitude']\n",
        "        longitude = data['iss_position']['longitude']\n",
        "\n",
        "        return {\n",
        "            'timestamp': datetime.fromtimestamp(data['timestamp']),\n",
        "            'latitude': float(data['iss_position']['latitude']),\n",
        "            'longitude': float(data['iss_position']['longitude'])\n",
        "        }\n",
        "\n",
        "        print(df)\n",
        "    else:\n",
        "        print(f\"Error: {response.status_code}\")"
      ]
    },
    {
      "cell_type": "code",
      "execution_count": null,
      "id": "9d73d577",
      "metadata": {
        "id": "9d73d577"
      },
      "outputs": [],
      "source": [
        "iss_data = fetch_iss_location()"
      ]
    },
    {
      "cell_type": "code",
      "execution_count": null,
      "id": "6d7ac340",
      "metadata": {
        "id": "6d7ac340",
        "outputId": "cf09918a-7960-481e-c62a-aa926624150f"
      },
      "outputs": [
        {
          "name": "stdout",
          "output_type": "stream",
          "text": [
            "{'timestamp': datetime.datetime(2024, 9, 19, 18, 42, 58), 'latitude': -20.3961, 'longitude': -166.4303}\n"
          ]
        }
      ],
      "source": [
        "print(iss_data)"
      ]
    },
    {
      "cell_type": "code",
      "execution_count": null,
      "id": "8d2ebae3",
      "metadata": {
        "id": "8d2ebae3",
        "outputId": "6d35ca0e-5801-480e-add7-6a0584c65411"
      },
      "outputs": [
        {
          "name": "stdout",
          "output_type": "stream",
          "text": [
            "Data saved to csv\n",
            "data saved to sqlite\n"
          ]
        }
      ],
      "source": [
        "if iss_data:\n",
        "    df = pd.DataFrame([iss_data])\n",
        "\n",
        "    df.to_csv('iss_location.csv', index=False)\n",
        "    print(\"Data saved to csv\")\n",
        "\n",
        "    conn = sqlite3.connect('iss_data.db')\n",
        "    df.to_sql('iss_locations', conn, if_exists='append', index=False)\n",
        "    conn.close()\n",
        "    print(\"data saved to sqlite\")\n",
        "else:\n",
        "    print(\"failed to fetch iss location data\")"
      ]
    },
    {
      "cell_type": "code",
      "execution_count": null,
      "id": "ede1d574",
      "metadata": {
        "id": "ede1d574"
      },
      "outputs": [],
      "source": [
        "conn = sqlite3.connect('iss_data.db')\n",
        "db_data = pd.read_sql_query(\"SELECT * FROM iss_locations\", conn)\n",
        "conn.close()"
      ]
    },
    {
      "cell_type": "code",
      "execution_count": null,
      "id": "fb28e1bc",
      "metadata": {
        "id": "fb28e1bc",
        "outputId": "addb579d-6523-4acf-c877-90bfbb4512f5"
      },
      "outputs": [
        {
          "data": {
            "text/html": [
              "<div>\n",
              "<style scoped>\n",
              "    .dataframe tbody tr th:only-of-type {\n",
              "        vertical-align: middle;\n",
              "    }\n",
              "\n",
              "    .dataframe tbody tr th {\n",
              "        vertical-align: top;\n",
              "    }\n",
              "\n",
              "    .dataframe thead th {\n",
              "        text-align: right;\n",
              "    }\n",
              "</style>\n",
              "<table border=\"1\" class=\"dataframe\">\n",
              "  <thead>\n",
              "    <tr style=\"text-align: right;\">\n",
              "      <th></th>\n",
              "      <th>timestamp</th>\n",
              "      <th>latitude</th>\n",
              "      <th>longitude</th>\n",
              "    </tr>\n",
              "  </thead>\n",
              "  <tbody>\n",
              "    <tr>\n",
              "      <th>0</th>\n",
              "      <td>1726788435</td>\n",
              "      <td>-51.5371</td>\n",
              "      <td>129.0384</td>\n",
              "    </tr>\n",
              "    <tr>\n",
              "      <th>1</th>\n",
              "      <td>1726788435</td>\n",
              "      <td>-51.5371</td>\n",
              "      <td>129.0384</td>\n",
              "    </tr>\n",
              "    <tr>\n",
              "      <th>2</th>\n",
              "      <td>2024-09-19 18:42:58</td>\n",
              "      <td>-20.3961</td>\n",
              "      <td>-166.4303</td>\n",
              "    </tr>\n",
              "  </tbody>\n",
              "</table>\n",
              "</div>"
            ],
            "text/plain": [
              "             timestamp  latitude  longitude\n",
              "0           1726788435  -51.5371   129.0384\n",
              "1           1726788435  -51.5371   129.0384\n",
              "2  2024-09-19 18:42:58  -20.3961  -166.4303"
            ]
          },
          "execution_count": 18,
          "metadata": {},
          "output_type": "execute_result"
        }
      ],
      "source": [
        "db_data"
      ]
    },
    {
      "cell_type": "code",
      "execution_count": null,
      "id": "89cdef22",
      "metadata": {
        "id": "89cdef22",
        "outputId": "736fdcae-d2b7-4238-86ff-c8de32663238"
      },
      "outputs": [
        {
          "ename": "TypeError",
          "evalue": "cannot concatenate object of type '<class 'dict'>'; only Series and DataFrame objs are valid",
          "output_type": "error",
          "traceback": [
            "\u001b[0;31m---------------------------------------------------------------------------\u001b[0m",
            "\u001b[0;31mTypeError\u001b[0m                                 Traceback (most recent call last)",
            "Cell \u001b[0;32mIn[19], line 1\u001b[0m\n\u001b[0;32m----> 1\u001b[0m combined_data \u001b[38;5;241m=\u001b[39m pd\u001b[38;5;241m.\u001b[39mconcat([db_data, iss_data], ignore_index\u001b[38;5;241m=\u001b[39m\u001b[38;5;28;01mTrue\u001b[39;00m)\n",
            "File \u001b[0;32m~/anaconda3/lib/python3.11/site-packages/pandas/util/_decorators.py:331\u001b[0m, in \u001b[0;36mdeprecate_nonkeyword_arguments.<locals>.decorate.<locals>.wrapper\u001b[0;34m(*args, **kwargs)\u001b[0m\n\u001b[1;32m    325\u001b[0m \u001b[38;5;28;01mif\u001b[39;00m \u001b[38;5;28mlen\u001b[39m(args) \u001b[38;5;241m>\u001b[39m num_allow_args:\n\u001b[1;32m    326\u001b[0m     warnings\u001b[38;5;241m.\u001b[39mwarn(\n\u001b[1;32m    327\u001b[0m         msg\u001b[38;5;241m.\u001b[39mformat(arguments\u001b[38;5;241m=\u001b[39m_format_argument_list(allow_args)),\n\u001b[1;32m    328\u001b[0m         \u001b[38;5;167;01mFutureWarning\u001b[39;00m,\n\u001b[1;32m    329\u001b[0m         stacklevel\u001b[38;5;241m=\u001b[39mfind_stack_level(),\n\u001b[1;32m    330\u001b[0m     )\n\u001b[0;32m--> 331\u001b[0m \u001b[38;5;28;01mreturn\u001b[39;00m func(\u001b[38;5;241m*\u001b[39margs, \u001b[38;5;241m*\u001b[39m\u001b[38;5;241m*\u001b[39mkwargs)\n",
            "File \u001b[0;32m~/anaconda3/lib/python3.11/site-packages/pandas/core/reshape/concat.py:368\u001b[0m, in \u001b[0;36mconcat\u001b[0;34m(objs, axis, join, ignore_index, keys, levels, names, verify_integrity, sort, copy)\u001b[0m\n\u001b[1;32m    146\u001b[0m \u001b[38;5;129m@deprecate_nonkeyword_arguments\u001b[39m(version\u001b[38;5;241m=\u001b[39m\u001b[38;5;28;01mNone\u001b[39;00m, allowed_args\u001b[38;5;241m=\u001b[39m[\u001b[38;5;124m\"\u001b[39m\u001b[38;5;124mobjs\u001b[39m\u001b[38;5;124m\"\u001b[39m])\n\u001b[1;32m    147\u001b[0m \u001b[38;5;28;01mdef\u001b[39;00m \u001b[38;5;21mconcat\u001b[39m(\n\u001b[1;32m    148\u001b[0m     objs: Iterable[NDFrame] \u001b[38;5;241m|\u001b[39m Mapping[HashableT, NDFrame],\n\u001b[0;32m   (...)\u001b[0m\n\u001b[1;32m    157\u001b[0m     copy: \u001b[38;5;28mbool\u001b[39m \u001b[38;5;241m=\u001b[39m \u001b[38;5;28;01mTrue\u001b[39;00m,\n\u001b[1;32m    158\u001b[0m ) \u001b[38;5;241m-\u001b[39m\u001b[38;5;241m>\u001b[39m DataFrame \u001b[38;5;241m|\u001b[39m Series:\n\u001b[1;32m    159\u001b[0m \u001b[38;5;250m    \u001b[39m\u001b[38;5;124;03m\"\"\"\u001b[39;00m\n\u001b[1;32m    160\u001b[0m \u001b[38;5;124;03m    Concatenate pandas objects along a particular axis.\u001b[39;00m\n\u001b[1;32m    161\u001b[0m \n\u001b[0;32m   (...)\u001b[0m\n\u001b[1;32m    366\u001b[0m \u001b[38;5;124;03m    1   3   4\u001b[39;00m\n\u001b[1;32m    367\u001b[0m \u001b[38;5;124;03m    \"\"\"\u001b[39;00m\n\u001b[0;32m--> 368\u001b[0m     op \u001b[38;5;241m=\u001b[39m _Concatenator(\n\u001b[1;32m    369\u001b[0m         objs,\n\u001b[1;32m    370\u001b[0m         axis\u001b[38;5;241m=\u001b[39maxis,\n\u001b[1;32m    371\u001b[0m         ignore_index\u001b[38;5;241m=\u001b[39mignore_index,\n\u001b[1;32m    372\u001b[0m         join\u001b[38;5;241m=\u001b[39mjoin,\n\u001b[1;32m    373\u001b[0m         keys\u001b[38;5;241m=\u001b[39mkeys,\n\u001b[1;32m    374\u001b[0m         levels\u001b[38;5;241m=\u001b[39mlevels,\n\u001b[1;32m    375\u001b[0m         names\u001b[38;5;241m=\u001b[39mnames,\n\u001b[1;32m    376\u001b[0m         verify_integrity\u001b[38;5;241m=\u001b[39mverify_integrity,\n\u001b[1;32m    377\u001b[0m         copy\u001b[38;5;241m=\u001b[39mcopy,\n\u001b[1;32m    378\u001b[0m         sort\u001b[38;5;241m=\u001b[39msort,\n\u001b[1;32m    379\u001b[0m     )\n\u001b[1;32m    381\u001b[0m     \u001b[38;5;28;01mreturn\u001b[39;00m op\u001b[38;5;241m.\u001b[39mget_result()\n",
            "File \u001b[0;32m~/anaconda3/lib/python3.11/site-packages/pandas/core/reshape/concat.py:458\u001b[0m, in \u001b[0;36m_Concatenator.__init__\u001b[0;34m(self, objs, axis, join, keys, levels, names, ignore_index, verify_integrity, copy, sort)\u001b[0m\n\u001b[1;32m    453\u001b[0m     \u001b[38;5;28;01mif\u001b[39;00m \u001b[38;5;129;01mnot\u001b[39;00m \u001b[38;5;28misinstance\u001b[39m(obj, (ABCSeries, ABCDataFrame)):\n\u001b[1;32m    454\u001b[0m         msg \u001b[38;5;241m=\u001b[39m (\n\u001b[1;32m    455\u001b[0m             \u001b[38;5;124mf\u001b[39m\u001b[38;5;124m\"\u001b[39m\u001b[38;5;124mcannot concatenate object of type \u001b[39m\u001b[38;5;124m'\u001b[39m\u001b[38;5;132;01m{\u001b[39;00m\u001b[38;5;28mtype\u001b[39m(obj)\u001b[38;5;132;01m}\u001b[39;00m\u001b[38;5;124m'\u001b[39m\u001b[38;5;124m; \u001b[39m\u001b[38;5;124m\"\u001b[39m\n\u001b[1;32m    456\u001b[0m             \u001b[38;5;124m\"\u001b[39m\u001b[38;5;124monly Series and DataFrame objs are valid\u001b[39m\u001b[38;5;124m\"\u001b[39m\n\u001b[1;32m    457\u001b[0m         )\n\u001b[0;32m--> 458\u001b[0m         \u001b[38;5;28;01mraise\u001b[39;00m \u001b[38;5;167;01mTypeError\u001b[39;00m(msg)\n\u001b[1;32m    460\u001b[0m     ndims\u001b[38;5;241m.\u001b[39madd(obj\u001b[38;5;241m.\u001b[39mndim)\n\u001b[1;32m    462\u001b[0m \u001b[38;5;66;03m# get the sample\u001b[39;00m\n\u001b[1;32m    463\u001b[0m \u001b[38;5;66;03m# want the highest ndim that we have, and must be non-empty\u001b[39;00m\n\u001b[1;32m    464\u001b[0m \u001b[38;5;66;03m# unless all objs are empty\u001b[39;00m\n",
            "\u001b[0;31mTypeError\u001b[0m: cannot concatenate object of type '<class 'dict'>'; only Series and DataFrame objs are valid"
          ]
        }
      ],
      "source": [
        "combined_data = pd.concat([db_data, iss_data], ignore_index=True)"
      ]
    },
    {
      "cell_type": "code",
      "execution_count": null,
      "id": "87476590",
      "metadata": {
        "id": "87476590",
        "outputId": "51c7dfa0-c146-472b-8fec-8332975c9171"
      },
      "outputs": [
        {
          "name": "stdout",
          "output_type": "stream",
          "text": [
            "Error: 401\n"
          ]
        }
      ],
      "source": [
        "import matplotlib.pyplot as plt\n",
        "\n",
        "# Note: You need to sign up for a free API key at openweathermap.org\n",
        "API_KEY = \"\"\n",
        "CITY = \"Chicago\"\n",
        "\n",
        "# Make API request\n",
        "url = f\"http://api.openweathermap.org/data/2.5/forecast?q={CITY}&appid={API_KEY}&units=imperial\"\n",
        "response = requests.get(url)\n",
        "\n",
        "if response.status_code == 200:\n",
        "    data = response.json()\n",
        "\n",
        "    # Extract relevant information\n",
        "    forecast = []\n",
        "    for item in data['list']:\n",
        "        forecast.append({\n",
        "            'datetime': item['dt_txt'],\n",
        "            'temperature': item['main']['temp'],\n",
        "            'humidity': item['main']['humidity']\n",
        "        })\n",
        "\n",
        "    # Create DataFrame\n",
        "    df = pd.DataFrame(forecast)\n",
        "\n",
        "    # Save to CSV\n",
        "    df.to_csv(f\"{CITY}_weather_forecast.csv\", index=False)\n",
        "    print(f\"Data saved to {CITY}_weather_forecast.csv\")\n",
        "\n",
        "    # Simple analysis\n",
        "    print(\"\\nAverage temperature:\", df['temperature'].mean())\n",
        "    print(\"Max temperature:\", df['temperature'].max())\n",
        "    print(\"Min temperature:\", df['temperature'].min())\n",
        "\n",
        "    # Simple visualization\n",
        "    plt.figure(figsize=(10, 6))\n",
        "    plt.plot(df['datetime'], df['temperature'])\n",
        "    plt.title(f\"Temperature Forecast for {CITY}\")\n",
        "    plt.xlabel(\"Date\")\n",
        "    plt.ylabel(\"Temperature (°F)\")\n",
        "    plt.xticks(rotation=45)\n",
        "    plt.tight_layout()\n",
        "    plt.show()\n",
        "else:\n",
        "    print(f\"Error: {response.status_code}\")"
      ]
    },
    {
      "cell_type": "code",
      "execution_count": null,
      "id": "86333e6c",
      "metadata": {
        "id": "86333e6c"
      },
      "outputs": [],
      "source": []
    }
  ],
  "metadata": {
    "kernelspec": {
      "display_name": "Python 3 (ipykernel)",
      "language": "python",
      "name": "python3"
    },
    "language_info": {
      "codemirror_mode": {
        "name": "ipython",
        "version": 3
      },
      "file_extension": ".py",
      "mimetype": "text/x-python",
      "name": "python",
      "nbconvert_exporter": "python",
      "pygments_lexer": "ipython3",
      "version": "3.11.3"
    },
    "colab": {
      "provenance": [],
      "include_colab_link": true
    }
  },
  "nbformat": 4,
  "nbformat_minor": 5
}